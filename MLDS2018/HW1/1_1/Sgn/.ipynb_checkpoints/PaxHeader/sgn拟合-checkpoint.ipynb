73 path=MLDS18/HW1/1_1/Sgn/.ipynb_checkpoints/sgn拟合-checkpoint.ipynb
27 mtime=1532008702.292172
26 atime=1532008702.37617
