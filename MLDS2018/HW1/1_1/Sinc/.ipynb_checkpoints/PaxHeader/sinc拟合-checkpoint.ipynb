75 path=MLDS18/HW1/1_1/Sinc/.ipynb_checkpoints/sinc拟合-checkpoint.ipynb
27 mtime=1532003301.848568
27 atime=1532003301.856568
