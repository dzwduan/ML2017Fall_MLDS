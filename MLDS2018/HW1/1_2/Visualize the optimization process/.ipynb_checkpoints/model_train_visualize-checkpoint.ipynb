{
 "cells": [
  {
   "cell_type": "markdown",
   "metadata": {},
   "source": [
    "# train and save model"
   ]
  },
  {
   "cell_type": "markdown",
   "metadata": {},
   "source": [
    "## Requirement ##\n",
    "Collect weights of the model every n epochs.\n",
    "\n",
    "Also collect the weights of the model of different training events.\n",
    "\n",
    "Record the accuracy (loss) corresponding to the collected parameters.\n",
    "\n",
    "Plot the above results on a figure."
   ]
  },
  {
   "cell_type": "code",
   "execution_count": 1,
   "metadata": {
    "ExecuteTime": {
     "end_time": "2018-07-21T12:17:47.110866Z",
     "start_time": "2018-07-21T12:17:46.187049Z"
    }
   },
   "outputs": [
    {
     "name": "stderr",
     "output_type": "stream",
     "text": [
      "Using TensorFlow backend.\n"
     ]
    }
   ],
   "source": [
    "import numpy as np\n",
    "import pandas as pd\n",
    "import matplotlib.pyplot as plt\n",
    "import matplotlib.patches as mpatches\n",
    "import matplotlib\n",
    "from keras.utils import np_utils\n",
    "\n",
    "from keras.datasets import mnist\n",
    "from keras.models import Model,load_model, Sequential\n",
    "from keras.layers import Input, Dense, Dropout, Flatten, Activation, Reshape, BatchNormalization, Convolution2D\n",
    "from keras.optimizers import SGD, Adam, Adadelta\n",
    "from keras.callbacks import ModelCheckpoint, EarlyStopping\n"
   ]
  },
  {
   "cell_type": "code",
   "execution_count": 2,
   "metadata": {
    "ExecuteTime": {
     "end_time": "2018-07-21T12:17:47.319654Z",
     "start_time": "2018-07-21T12:17:47.112223Z"
    }
   },
   "outputs": [],
   "source": [
    "(x_train,y_train),(x_test,y_test) = mnist.load_data()"
   ]
  },
  {
   "cell_type": "code",
   "execution_count": 3,
   "metadata": {
    "ExecuteTime": {
     "end_time": "2018-07-21T12:17:47.323741Z",
     "start_time": "2018-07-21T12:17:47.320781Z"
    }
   },
   "outputs": [],
   "source": [
    "def pre_img(x,y):\n",
    "    x = x.reshape(x.shape[0],28*28).astype('float32')/255.\n",
    "    y = np_utils.to_categorical(y)\n",
    "    return x, y"
   ]
  },
  {
   "cell_type": "code",
   "execution_count": 4,
   "metadata": {
    "ExecuteTime": {
     "end_time": "2018-07-21T12:17:47.427332Z",
     "start_time": "2018-07-21T12:17:47.325039Z"
    }
   },
   "outputs": [],
   "source": [
    "x_train, y_train = pre_img(x_train,y_train)\n",
    "x_test, y_test = pre_img(x_test,y_test)"
   ]
  },
  {
   "cell_type": "code",
   "execution_count": 5,
   "metadata": {
    "ExecuteTime": {
     "end_time": "2018-07-21T12:17:47.432559Z",
     "start_time": "2018-07-21T12:17:47.428682Z"
    }
   },
   "outputs": [
    {
     "data": {
      "text/plain": [
       "(60000, 784)"
      ]
     },
     "execution_count": 5,
     "metadata": {},
     "output_type": "execute_result"
    }
   ],
   "source": [
    "x_train.shape"
   ]
  },
  {
   "cell_type": "code",
   "execution_count": 6,
   "metadata": {
    "ExecuteTime": {
     "end_time": "2018-07-21T12:17:47.438499Z",
     "start_time": "2018-07-21T12:17:47.433684Z"
    }
   },
   "outputs": [],
   "source": [
    "def shuffle(X,Y):\n",
    "    randomize = np.arange(len(X))\n",
    "    np.random.shuffle(randomize)\n",
    "    return (X[randomize], Y[randomize])"
   ]
  },
  {
   "cell_type": "code",
   "execution_count": 7,
   "metadata": {
    "ExecuteTime": {
     "end_time": "2018-07-21T12:17:47.549076Z",
     "start_time": "2018-07-21T12:17:47.440229Z"
    }
   },
   "outputs": [],
   "source": [
    "x_train,y_train = shuffle(x_train,y_train)"
   ]
  },
  {
   "cell_type": "code",
   "execution_count": 8,
   "metadata": {
    "ExecuteTime": {
     "end_time": "2018-07-21T12:17:47.611907Z",
     "start_time": "2018-07-21T12:17:47.550493Z"
    }
   },
   "outputs": [
    {
     "name": "stdout",
     "output_type": "stream",
     "text": [
      "_________________________________________________________________\n",
      "Layer (type)                 Output Shape              Param #   \n",
      "=================================================================\n",
      "dense_1 (Dense)              (None, 128)               100480    \n",
      "_________________________________________________________________\n",
      "dense_2 (Dense)              (None, 128)               16512     \n",
      "_________________________________________________________________\n",
      "dense_3 (Dense)              (None, 64)                8256      \n",
      "_________________________________________________________________\n",
      "dense_4 (Dense)              (None, 10)                650       \n",
      "=================================================================\n",
      "Total params: 125,898\n",
      "Trainable params: 125,898\n",
      "Non-trainable params: 0\n",
      "_________________________________________________________________\n"
     ]
    }
   ],
   "source": [
    "model = Sequential([\n",
    "    Dense(128,\n",
    "          input_dim = 784,\n",
    "          activation='selu',\n",
    "          kernel_initializer='lecun_uniform',\n",
    "          bias_initializer = 'zeros'),\n",
    "    Dense(128,\n",
    "          activation='selu',\n",
    "          kernel_initializer='lecun_uniform',\n",
    "          bias_initializer='zeros'),\n",
    "    Dense(64,\n",
    "          activation='selu',\n",
    "          kernel_initializer='lecun_uniform',\n",
    "          bias_initializer='zeros'),\n",
    "    Dense(10,\n",
    "          activation='softmax',\n",
    "          kernel_initializer='lecun_uniform',\n",
    "          bias_initializer='zeros'),\n",
    "])\n",
    "model.summary()"
   ]
  },
  {
   "cell_type": "code",
   "execution_count": 9,
   "metadata": {
    "ExecuteTime": {
     "end_time": "2018-07-21T12:17:47.615521Z",
     "start_time": "2018-07-21T12:17:47.613215Z"
    }
   },
   "outputs": [],
   "source": [
    "import os\n",
    "def mkdir_if_not_exist(dir):\n",
    "    if not os.path.exists(dir):\n",
    "        os.makedirs(dir)"
   ]
  },
  {
   "cell_type": "code",
   "execution_count": 10,
   "metadata": {
    "ExecuteTime": {
     "end_time": "2018-07-21T12:17:47.621514Z",
     "start_time": "2018-07-21T12:17:47.616518Z"
    }
   },
   "outputs": [],
   "source": [
    "mkdir_if_not_exist('model')\n",
    "mkdir_if_not_exist('history')\n",
    "mkdir_if_not_exist('picture')"
   ]
  },
  {
   "cell_type": "code",
   "execution_count": 11,
   "metadata": {
    "ExecuteTime": {
     "end_time": "2018-07-21T12:17:47.666956Z",
     "start_time": "2018-07-21T12:17:47.622822Z"
    }
   },
   "outputs": [],
   "source": [
    "model.compile(optimizer='Nadam',\n",
    "              loss='categorical_crossentropy',\n",
    "              metrics=['accuracy'])"
   ]
  },
  {
   "cell_type": "code",
   "execution_count": 12,
   "metadata": {
    "ExecuteTime": {
     "end_time": "2018-07-21T12:17:47.732906Z",
     "start_time": "2018-07-21T12:17:47.668819Z"
    }
   },
   "outputs": [],
   "source": [
    "from keras.callbacks import LearningRateScheduler\n",
    "# def step_decay(epoch):\n",
    "#     initial_lrate = 0.01\n",
    "#     drop = 0.5\n",
    "#     epochs_drop = 10.0\n",
    "#     lrate = initial_lrate * np.power(drop,np.floor((1+epoch)/epochs_drop))\n",
    "#     return lrate\n",
    "# lrate = LearningRateScheduler(step_decay)\n",
    "\n",
    "def train(i):\n",
    "    model_save = ModelCheckpoint('model/mnist_'+str(i)+'_{epoch}.hdf5',verbose=0,\n",
    "                           save_weights_only=False,period=3)\n",
    "    callbacks = [model_save]\n",
    "    history = model.fit(x_train,y_train,batch_size=128,verbose=1,\n",
    "                   validation_split=0.25,epochs = 30,\n",
    "                   callbacks=callbacks,shuffle=True)\n",
    "    pd.DataFrame(history.history).to_csv(\"history/mnist_history_{}.csv\".format(i))"
   ]
  },
  {
   "cell_type": "code",
   "execution_count": null,
   "metadata": {
    "ExecuteTime": {
     "end_time": "2018-07-21T12:18:47.539136Z",
     "start_time": "2018-07-21T12:18:41.192Z"
    },
    "scrolled": true
   },
   "outputs": [],
   "source": [
    "for i in range(4):\n",
    "    train(i)"
   ]
  },
  {
   "cell_type": "markdown",
   "metadata": {},
   "source": [
    "# visualize"
   ]
  },
  {
   "cell_type": "markdown",
   "metadata": {},
   "source": [
    "## requirement ##\n",
    "Collect the weights every 3 epochs, and train 8 times. Reduce the dimension of  weights to 2 by PCA.\n"
   ]
  },
  {
   "cell_type": "code",
   "execution_count": 18,
   "metadata": {
    "ExecuteTime": {
     "end_time": "2018-07-21T12:18:52.876402Z",
     "start_time": "2018-07-21T12:18:52.872080Z"
    }
   },
   "outputs": [],
   "source": [
    "from keras.models import load_model\n",
    "import numpy as np\n",
    "\n",
    "from sklearn.decomposition import PCA\n",
    "from sklearn.manifold import TSNE\n",
    "import matplotlib as mpl\n",
    "from matplotlib import pyplot as plt\n",
    "import pandas as pd\n",
    "import numpy as np"
   ]
  },
  {
   "cell_type": "code",
   "execution_count": 19,
   "metadata": {
    "ExecuteTime": {
     "end_time": "2018-07-21T12:18:57.545250Z",
     "start_time": "2018-07-21T12:18:55.086202Z"
    }
   },
   "outputs": [
    {
     "name": "stdout",
     "output_type": "stream",
     "text": [
      "(8,)\n",
      "(784, 128)\n",
      "(128,)\n",
      "(128, 128)\n",
      "(128,)\n",
      "(128, 64)\n",
      "(64,)\n",
      "(64, 10)\n",
      "(10,)\n",
      "(125898,)\n"
     ]
    }
   ],
   "source": [
    "\n",
    "epoch_weight = []\n",
    "model = load_model('model/mnist_0_3.hdf5')\n",
    "weight = model.get_weights()\n",
    "print(np.array(weight).shape)\n",
    "for val in weight:\n",
    "    epoch_weight +=list(val.flatten())\n",
    "    print(np.array(val).shape)\n",
    "print(np.array(epoch_weight).shape)\n",
    "\n",
    "#可以看出weight每一行的纬度不是固定的，需要分别展开进行添加，使得每个模型的权重变成一维数据"
   ]
  },
  {
   "cell_type": "code",
   "execution_count": 16,
   "metadata": {
    "ExecuteTime": {
     "end_time": "2018-07-21T12:18:17.551686Z",
     "start_time": "2018-07-21T12:18:17.548871Z"
    }
   },
   "outputs": [
    {
     "data": {
      "text/plain": [
       "125906"
      ]
     },
     "execution_count": 16,
     "metadata": {},
     "output_type": "execute_result"
    }
   ],
   "source": [
    "8+784*128+128+128*128+128+128*64+64+64*10+10"
   ]
  },
  {
   "cell_type": "code",
   "execution_count": 20,
   "metadata": {
    "ExecuteTime": {
     "end_time": "2018-07-21T12:21:46.399414Z",
     "start_time": "2018-07-21T12:19:02.392559Z"
    }
   },
   "outputs": [
    {
     "name": "stdout",
     "output_type": "stream",
     "text": [
      "precess event 0\n",
      "precess event 1\n",
      "precess event 2\n",
      "precess event 3\n"
     ]
    }
   ],
   "source": [
    "all_weight = []\n",
    "for i in range(4):\n",
    "    print('precess event',i)\n",
    "    for idx in range(10):\n",
    "        model = load_model('model/mnist_{}_{}.hdf5'.format(i,(idx+1)*3))\n",
    "        data = model.get_weights()\n",
    "        epoch_single = []\n",
    "        for value in data:\n",
    "            epoch_single.extend(list(value.flatten()))\n",
    "        all_weight.append(epoch_single)"
   ]
  },
  {
   "cell_type": "code",
   "execution_count": 21,
   "metadata": {
    "ExecuteTime": {
     "end_time": "2018-07-21T12:21:47.759280Z",
     "start_time": "2018-07-21T12:21:46.400598Z"
    }
   },
   "outputs": [
    {
     "name": "stdout",
     "output_type": "stream",
     "text": [
      "[t-SNE] Computing 31 nearest neighbors...\n",
      "[t-SNE] Indexed 40 samples in 0.002s...\n",
      "[t-SNE] Computed neighbors for 40 samples in 0.014s...\n",
      "[t-SNE] Computed conditional probabilities for sample 40 / 40\n",
      "[t-SNE] Mean sigma: 28.364145\n",
      "[t-SNE] KL divergence after 250 iterations with early exaggeration: 54.867466\n",
      "[t-SNE] Error after 1500 iterations: 0.115352\n",
      "(40, 2)\n"
     ]
    }
   ],
   "source": [
    "vis_data = TSNE(n_components=2,perplexity=10,verbose=1,n_iter=10000).fit_transform(all_weight)\n",
    "pca = PCA(n_components=2)\n",
    "vis_data_pca = pca.fit_transform(all_weight)\n",
    "print(vis_data_pca.shape)\n",
    "np.save('vis.npy',vis_data_pca)"
   ]
  },
  {
   "cell_type": "code",
   "execution_count": 23,
   "metadata": {
    "ExecuteTime": {
     "end_time": "2018-07-21T12:21:58.553067Z",
     "start_time": "2018-07-21T12:21:58.410177Z"
    }
   },
   "outputs": [
    {
     "data": {
      "image/png": "[encoded data removed]",
      "text/plain": [
       "<matplotlib.figure.Figure at 0x7f2cddc59f98>"
      ]
     },
     "metadata": {},
     "output_type": "display_data"
    },
    {
     "data": {
      "text/plain": [
       "<matplotlib.figure.Figure at 0x7f2cdc98bfd0>"
      ]
     },
     "metadata": {},
     "output_type": "display_data"
    }
   ],
   "source": [
    "loss = []\n",
    "color = []\n",
    "\n",
    "for event in range(4):\n",
    "\tcolor += [event]*10  #确保同一个epoch颜色相同\n",
    "\twith open('history/mnist_history_{}.csv'.format(event), 'r') as f:\n",
    "\t\tf.readline()\n",
    "\t\tfor i, line in enumerate(f):\n",
    "\t\t\tif i%3 == 2:\n",
    "\t\t\t\tdata = line.split(',')\n",
    "\t\t\t\tloss.append(round(float(data[4]),2))\n",
    "\t\tf.close()\n",
    "\n",
    "\n",
    "vis_data = np.array(np.load('vis.npy'))\n",
    "plt.scatter(vis_data[:,0],vis_data[:,1],c=color)\n",
    "for i, l in enumerate(loss):\n",
    "\tplt.text(vis_data[i,0],vis_data[i,1],l)\n",
    "plt.show()\n",
    "plt.savefig('./picture/vis_opt_pca２.png')"
   ]
  },
  {
   "cell_type": "code",
   "execution_count": 25,
   "metadata": {
    "ExecuteTime": {
     "end_time": "2018-07-21T12:24:31.282335Z",
     "start_time": "2018-07-21T12:24:31.276926Z"
    }
   },
   "outputs": [
    {
     "data": {
      "text/plain": [
       "(40, 2)"
      ]
     },
     "execution_count": 25,
     "metadata": {},
     "output_type": "execute_result"
    }
   ],
   "source": [
    "vis_data.shape"
   ]
  },
  {
   "cell_type": "code",
   "execution_count": 32,
   "metadata": {
    "ExecuteTime": {
     "end_time": "2018-07-21T12:35:43.419196Z",
     "start_time": "2018-07-21T12:35:43.398046Z"
    }
   },
   "outputs": [
    {
     "data": {
      "text/html": [
       "<div>\n",
       "<style scoped>\n",
       "    .dataframe tbody tr th:only-of-type {\n",
       "        vertical-align: middle;\n",
       "    }\n",
       "\n",
       "    .dataframe tbody tr th {\n",
       "        vertical-align: top;\n",
       "    }\n",
       "\n",
       "    .dataframe thead th {\n",
       "        text-align: right;\n",
       "    }\n",
       "</style>\n",
       "<table border=\"1\" class=\"dataframe\">\n",
       "  <thead>\n",
       "    <tr style=\"text-align: right;\">\n",
       "      <th></th>\n",
       "      <th>Unnamed: 0</th>\n",
       "      <th>acc</th>\n",
       "      <th>loss</th>\n",
       "      <th>val_acc</th>\n",
       "      <th>val_loss</th>\n",
       "    </tr>\n",
       "  </thead>\n",
       "  <tbody>\n",
       "    <tr>\n",
       "      <th>0</th>\n",
       "      <td>0</td>\n",
       "      <td>0.904444</td>\n",
       "      <td>0.312784</td>\n",
       "      <td>0.939467</td>\n",
       "      <td>0.208583</td>\n",
       "    </tr>\n",
       "    <tr>\n",
       "      <th>1</th>\n",
       "      <td>1</td>\n",
       "      <td>0.954889</td>\n",
       "      <td>0.147033</td>\n",
       "      <td>0.951067</td>\n",
       "      <td>0.166981</td>\n",
       "    </tr>\n",
       "    <tr>\n",
       "      <th>2</th>\n",
       "      <td>2</td>\n",
       "      <td>0.965889</td>\n",
       "      <td>0.106693</td>\n",
       "      <td>0.961533</td>\n",
       "      <td>0.129600</td>\n",
       "    </tr>\n",
       "    <tr>\n",
       "      <th>3</th>\n",
       "      <td>3</td>\n",
       "      <td>0.973400</td>\n",
       "      <td>0.082306</td>\n",
       "      <td>0.961533</td>\n",
       "      <td>0.133182</td>\n",
       "    </tr>\n",
       "    <tr>\n",
       "      <th>4</th>\n",
       "      <td>4</td>\n",
       "      <td>0.978556</td>\n",
       "      <td>0.065164</td>\n",
       "      <td>0.965600</td>\n",
       "      <td>0.120482</td>\n",
       "    </tr>\n",
       "    <tr>\n",
       "      <th>5</th>\n",
       "      <td>5</td>\n",
       "      <td>0.983200</td>\n",
       "      <td>0.051640</td>\n",
       "      <td>0.968067</td>\n",
       "      <td>0.123244</td>\n",
       "    </tr>\n",
       "    <tr>\n",
       "      <th>6</th>\n",
       "      <td>6</td>\n",
       "      <td>0.984022</td>\n",
       "      <td>0.047064</td>\n",
       "      <td>0.968867</td>\n",
       "      <td>0.121153</td>\n",
       "    </tr>\n",
       "    <tr>\n",
       "      <th>7</th>\n",
       "      <td>7</td>\n",
       "      <td>0.986022</td>\n",
       "      <td>0.041100</td>\n",
       "      <td>0.969133</td>\n",
       "      <td>0.123698</td>\n",
       "    </tr>\n",
       "    <tr>\n",
       "      <th>8</th>\n",
       "      <td>8</td>\n",
       "      <td>0.985533</td>\n",
       "      <td>0.042606</td>\n",
       "      <td>0.961667</td>\n",
       "      <td>0.151868</td>\n",
       "    </tr>\n",
       "    <tr>\n",
       "      <th>9</th>\n",
       "      <td>9</td>\n",
       "      <td>0.989644</td>\n",
       "      <td>0.031321</td>\n",
       "      <td>0.969533</td>\n",
       "      <td>0.121533</td>\n",
       "    </tr>\n",
       "    <tr>\n",
       "      <th>10</th>\n",
       "      <td>10</td>\n",
       "      <td>0.989511</td>\n",
       "      <td>0.030752</td>\n",
       "      <td>0.971600</td>\n",
       "      <td>0.120482</td>\n",
       "    </tr>\n",
       "    <tr>\n",
       "      <th>11</th>\n",
       "      <td>11</td>\n",
       "      <td>0.991333</td>\n",
       "      <td>0.026409</td>\n",
       "      <td>0.969800</td>\n",
       "      <td>0.132132</td>\n",
       "    </tr>\n",
       "    <tr>\n",
       "      <th>12</th>\n",
       "      <td>12</td>\n",
       "      <td>0.990711</td>\n",
       "      <td>0.026032</td>\n",
       "      <td>0.969733</td>\n",
       "      <td>0.138826</td>\n",
       "    </tr>\n",
       "    <tr>\n",
       "      <th>13</th>\n",
       "      <td>13</td>\n",
       "      <td>0.990289</td>\n",
       "      <td>0.029361</td>\n",
       "      <td>0.971933</td>\n",
       "      <td>0.144025</td>\n",
       "    </tr>\n",
       "    <tr>\n",
       "      <th>14</th>\n",
       "      <td>14</td>\n",
       "      <td>0.992356</td>\n",
       "      <td>0.023302</td>\n",
       "      <td>0.972400</td>\n",
       "      <td>0.140481</td>\n",
       "    </tr>\n",
       "    <tr>\n",
       "      <th>15</th>\n",
       "      <td>15</td>\n",
       "      <td>0.991689</td>\n",
       "      <td>0.024875</td>\n",
       "      <td>0.971133</td>\n",
       "      <td>0.154602</td>\n",
       "    </tr>\n",
       "    <tr>\n",
       "      <th>16</th>\n",
       "      <td>16</td>\n",
       "      <td>0.993311</td>\n",
       "      <td>0.020971</td>\n",
       "      <td>0.971600</td>\n",
       "      <td>0.152734</td>\n",
       "    </tr>\n",
       "    <tr>\n",
       "      <th>17</th>\n",
       "      <td>17</td>\n",
       "      <td>0.992000</td>\n",
       "      <td>0.025295</td>\n",
       "      <td>0.971667</td>\n",
       "      <td>0.152690</td>\n",
       "    </tr>\n",
       "    <tr>\n",
       "      <th>18</th>\n",
       "      <td>18</td>\n",
       "      <td>0.992578</td>\n",
       "      <td>0.023884</td>\n",
       "      <td>0.970067</td>\n",
       "      <td>0.156247</td>\n",
       "    </tr>\n",
       "    <tr>\n",
       "      <th>19</th>\n",
       "      <td>19</td>\n",
       "      <td>0.993044</td>\n",
       "      <td>0.019806</td>\n",
       "      <td>0.974800</td>\n",
       "      <td>0.140156</td>\n",
       "    </tr>\n",
       "    <tr>\n",
       "      <th>20</th>\n",
       "      <td>20</td>\n",
       "      <td>0.994333</td>\n",
       "      <td>0.019232</td>\n",
       "      <td>0.975933</td>\n",
       "      <td>0.136583</td>\n",
       "    </tr>\n",
       "    <tr>\n",
       "      <th>21</th>\n",
       "      <td>21</td>\n",
       "      <td>0.993956</td>\n",
       "      <td>0.020715</td>\n",
       "      <td>0.973133</td>\n",
       "      <td>0.164248</td>\n",
       "    </tr>\n",
       "    <tr>\n",
       "      <th>22</th>\n",
       "      <td>22</td>\n",
       "      <td>0.993000</td>\n",
       "      <td>0.022891</td>\n",
       "      <td>0.973533</td>\n",
       "      <td>0.153084</td>\n",
       "    </tr>\n",
       "    <tr>\n",
       "      <th>23</th>\n",
       "      <td>23</td>\n",
       "      <td>0.994711</td>\n",
       "      <td>0.018058</td>\n",
       "      <td>0.966067</td>\n",
       "      <td>0.209976</td>\n",
       "    </tr>\n",
       "    <tr>\n",
       "      <th>24</th>\n",
       "      <td>24</td>\n",
       "      <td>0.993711</td>\n",
       "      <td>0.021185</td>\n",
       "      <td>0.973533</td>\n",
       "      <td>0.157789</td>\n",
       "    </tr>\n",
       "    <tr>\n",
       "      <th>25</th>\n",
       "      <td>25</td>\n",
       "      <td>0.995378</td>\n",
       "      <td>0.016221</td>\n",
       "      <td>0.972533</td>\n",
       "      <td>0.172384</td>\n",
       "    </tr>\n",
       "    <tr>\n",
       "      <th>26</th>\n",
       "      <td>26</td>\n",
       "      <td>0.994444</td>\n",
       "      <td>0.018257</td>\n",
       "      <td>0.972800</td>\n",
       "      <td>0.169537</td>\n",
       "    </tr>\n",
       "    <tr>\n",
       "      <th>27</th>\n",
       "      <td>27</td>\n",
       "      <td>0.995311</td>\n",
       "      <td>0.015273</td>\n",
       "      <td>0.974667</td>\n",
       "      <td>0.165548</td>\n",
       "    </tr>\n",
       "    <tr>\n",
       "      <th>28</th>\n",
       "      <td>28</td>\n",
       "      <td>0.993978</td>\n",
       "      <td>0.020119</td>\n",
       "      <td>0.974200</td>\n",
       "      <td>0.175125</td>\n",
       "    </tr>\n",
       "    <tr>\n",
       "      <th>29</th>\n",
       "      <td>29</td>\n",
       "      <td>0.994978</td>\n",
       "      <td>0.016063</td>\n",
       "      <td>0.974667</td>\n",
       "      <td>0.153866</td>\n",
       "    </tr>\n",
       "  </tbody>\n",
       "</table>\n",
       "</div>"
      ],
      "text/plain": [
       "    Unnamed: 0       acc      loss   val_acc  val_loss\n",
       "0            0  0.904444  0.312784  0.939467  0.208583\n",
       "1            1  0.954889  0.147033  0.951067  0.166981\n",
       "2            2  0.965889  0.106693  0.961533  0.129600\n",
       "3            3  0.973400  0.082306  0.961533  0.133182\n",
       "4            4  0.978556  0.065164  0.965600  0.120482\n",
       "5            5  0.983200  0.051640  0.968067  0.123244\n",
       "6            6  0.984022  0.047064  0.968867  0.121153\n",
       "7            7  0.986022  0.041100  0.969133  0.123698\n",
       "8            8  0.985533  0.042606  0.961667  0.151868\n",
       "9            9  0.989644  0.031321  0.969533  0.121533\n",
       "10          10  0.989511  0.030752  0.971600  0.120482\n",
       "11          11  0.991333  0.026409  0.969800  0.132132\n",
       "12          12  0.990711  0.026032  0.969733  0.138826\n",
       "13          13  0.990289  0.029361  0.971933  0.144025\n",
       "14          14  0.992356  0.023302  0.972400  0.140481\n",
       "15          15  0.991689  0.024875  0.971133  0.154602\n",
       "16          16  0.993311  0.020971  0.971600  0.152734\n",
       "17          17  0.992000  0.025295  0.971667  0.152690\n",
       "18          18  0.992578  0.023884  0.970067  0.156247\n",
       "19          19  0.993044  0.019806  0.974800  0.140156\n",
       "20          20  0.994333  0.019232  0.975933  0.136583\n",
       "21          21  0.993956  0.020715  0.973133  0.164248\n",
       "22          22  0.993000  0.022891  0.973533  0.153084\n",
       "23          23  0.994711  0.018058  0.966067  0.209976\n",
       "24          24  0.993711  0.021185  0.973533  0.157789\n",
       "25          25  0.995378  0.016221  0.972533  0.172384\n",
       "26          26  0.994444  0.018257  0.972800  0.169537\n",
       "27          27  0.995311  0.015273  0.974667  0.165548\n",
       "28          28  0.993978  0.020119  0.974200  0.175125\n",
       "29          29  0.994978  0.016063  0.974667  0.153866"
      ]
     },
     "execution_count": 32,
     "metadata": {},
     "output_type": "execute_result"
    }
   ],
   "source": [
    "data = pd.read_csv('history/mnist_history_0.csv')\n",
    "data"
   ]
  },
  {
   "cell_type": "code",
   "execution_count": 33,
   "metadata": {
    "ExecuteTime": {
     "end_time": "2018-07-21T12:35:51.923723Z",
     "start_time": "2018-07-21T12:35:51.920821Z"
    }
   },
   "outputs": [
    {
     "data": {
      "text/plain": [
       "(30, 5)"
      ]
     },
     "execution_count": 33,
     "metadata": {},
     "output_type": "execute_result"
    }
   ],
   "source": [
    "data.shape"
   ]
  },
  {
   "cell_type": "code",
   "execution_count": null,
   "metadata": {},
   "outputs": [],
   "source": []
  }
 ],
 "metadata": {
  "kernelspec": {
   "display_name": "Python 3",
   "language": "python",
   "name": "python3"
  },
  "language_info": {
   "codemirror_mode": {
    "name": "ipython",
    "version": 3
   },
   "file_extension": ".py",
   "mimetype": "text/x-python",
   "name": "python",
   "nbconvert_exporter": "python",
   "pygments_lexer": "ipython3",
   "version": "3.6.4"
  },
  "latex_envs": {
   "LaTeX_envs_menu_present": true,
   "autoclose": false,
   "autocomplete": true,
   "bibliofile": "biblio.bib",
   "cite_by": "apalike",
   "current_citInitial": 1,
   "eqLabelWithNumbers": true,
   "eqNumInitial": 1,
   "hotkeys": {
    "equation": "Ctrl-E",
    "itemize": "Ctrl-I"
   },
   "labels_anchors": false,
   "latex_user_defs": false,
   "report_style_numbering": false,
   "user_envs_cfg": false
  },
  "toc": {
   "base_numbering": 1,
   "nav_menu": {},
   "number_sections": true,
   "sideBar": true,
   "skip_h1_title": false,
   "title_cell": "Table of Contents",
   "title_sidebar": "Contents",
   "toc_cell": false,
   "toc_position": {},
   "toc_section_display": true,
   "toc_window_display": false
  }
 },
 "nbformat": 4,
 "nbformat_minor": 2
}
