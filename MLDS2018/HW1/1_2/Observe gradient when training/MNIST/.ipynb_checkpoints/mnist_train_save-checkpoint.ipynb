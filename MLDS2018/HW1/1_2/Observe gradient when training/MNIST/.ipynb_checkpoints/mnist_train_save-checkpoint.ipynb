{
 "cells": [
  {
   "cell_type": "markdown",
   "metadata": {
    "ExecuteTime": {
     "end_time": "2018-07-22T10:25:25.564488Z",
     "start_time": "2018-07-22T10:25:25.562120Z"
    }
   },
   "source": [
    "# train model"
   ]
  },
  {
   "cell_type": "code",
   "execution_count": 1,
   "metadata": {
    "ExecuteTime": {
     "end_time": "2018-07-22T10:49:26.430368Z",
     "start_time": "2018-07-22T10:49:26.044996Z"
    }
   },
   "outputs": [],
   "source": [
    "%matplotlib inline\n",
    "import torch\n",
    "import torch.nn as nn\n",
    "import torch.optim as optim\n",
    "import torch.nn.functional as F\n",
    "import torchvision\n",
    "import torchvision.transforms as transforms\n",
    "from torch.utils.data import Dataset, DataLoader\n",
    "import glob\n",
    "import os.path as osp\n",
    "import numpy as np\n",
    "from PIL import Image"
   ]
  },
  {
   "cell_type": "code",
   "execution_count": 18,
   "metadata": {
    "ExecuteTime": {
     "end_time": "2018-07-22T10:57:16.822234Z",
     "start_time": "2018-07-22T10:57:16.748591Z"
    }
   },
   "outputs": [],
   "source": [
    "class MNIST(Dataset):\n",
    "    def __init__(self,\n",
    "                 root_dir,\n",
    "                 transform=None,\n",
    "                 pre_load=True):\n",
    "        self.root = root_dir\n",
    "        self.images = None\n",
    "        self.labels = None\n",
    "        self.filenames = []\n",
    "        self.transform = transform\n",
    "        \n",
    "        for i in range(10):\n",
    "            filenames = glob.glob(osp.join(root_dir,str(i),'*.png'))\n",
    "            for fn in filenames:\n",
    "                self.filenames.append((fn,i)) #每个文件夹对应的文件和标签对\n",
    "        if pre_load:\n",
    "            self._pre_load()\n",
    "        self.len = len(self.filenames)\n",
    "        \n",
    "    def _pre_load(self):\n",
    "        self.images = []\n",
    "        self.labels = [] #用于缓存\n",
    "\n",
    "        for img,lab in self.filenames:\n",
    "            with Image.open(img,'r') as f:\n",
    "                self.images.append(f.copy()) #如果不用copy会报错\n",
    "            self.labels.append(lab)\n",
    "    \n",
    "    def __getitem__(self,index):\n",
    "        if self.images is not None:\n",
    "            image = self.images[index]\n",
    "            label = self.labels[index]\n",
    "        else:\n",
    "            img,label = self.filenames[index]\n",
    "            image = Image.open(img)\n",
    "        \n",
    "        if self.transform is not None:\n",
    "            image = self.transform(image)\n",
    "        return image,label\n",
    "    \n",
    "    def __len__(self):\n",
    "        return self.len"
   ]
  },
  {
   "cell_type": "code",
   "execution_count": 19,
   "metadata": {
    "ExecuteTime": {
     "end_time": "2018-07-22T10:57:22.909921Z",
     "start_time": "2018-07-22T10:57:18.061508Z"
    }
   },
   "outputs": [],
   "source": [
    "trainset = MNIST(root_dir='mnist_png/training',\n",
    "                 transform=transforms.ToTensor())\n",
    "testset = MNIST(root_dir='mnist_png/testing',\n",
    "                 transform=transforms.ToTensor())\n",
    "trainset_loader = DataLoader(trainset,batch_size=64,shuffle=True)\n",
    "testset_loader = DataLoader(testset,batch_size=128,shuffle=False)"
   ]
  },
  {
   "cell_type": "code",
   "execution_count": 20,
   "metadata": {
    "ExecuteTime": {
     "end_time": "2018-07-22T10:57:22.954042Z",
     "start_time": "2018-07-22T10:57:22.951548Z"
    }
   },
   "outputs": [
    {
     "name": "stdout",
     "output_type": "stream",
     "text": [
      "60000\n",
      "10000\n"
     ]
    }
   ],
   "source": [
    "print(len(trainset))\n",
    "print(len(testset))"
   ]
  },
  {
   "cell_type": "code",
   "execution_count": 29,
   "metadata": {
    "ExecuteTime": {
     "end_time": "2018-07-22T11:06:04.104463Z",
     "start_time": "2018-07-22T11:06:03.985255Z"
    }
   },
   "outputs": [
    {
     "data": {
      "image/png": "[encoded data removed]",
      "text/plain": [
       "<matplotlib.figure.Figure at 0x7f794cd380f0>"
      ]
     },
     "metadata": {},
     "output_type": "display_data"
    }
   ],
   "source": [
    "import matplotlib.pyplot as plt\n",
    "import numpy as np\n",
    "\n",
    "def image_show(image):\n",
    "    img = image.numpy().transpose((1,2,0))\n",
    "    plt.imshow(img)\n",
    "\n",
    "images, labels = next(iter(trainset_loader))\n",
    "\n",
    "image_show(torchvision.utils.make_grid(images))"
   ]
  },
  {
   "cell_type": "code",
   "execution_count": 37,
   "metadata": {
    "ExecuteTime": {
     "end_time": "2018-07-22T11:11:43.316263Z",
     "start_time": "2018-07-22T11:11:43.311261Z"
    }
   },
   "outputs": [],
   "source": [
    "def p_norm(model):\n",
    "    grad_all = 0.0\n",
    "    for p in model.parameters():\n",
    "        grad = 0.0\n",
    "        if p.grad is not None:\n",
    "            grad = (p.grad.cpu().data.numpy()**2).sum()\n",
    "        grad_all+=grad\n",
    "    grad_norm = grad_all**0.5\n",
    "    return grad_norm"
   ]
  },
  {
   "cell_type": "code",
   "execution_count": null,
   "metadata": {},
   "outputs": [],
   "source": []
  }
 ],
 "metadata": {
  "kernelspec": {
   "display_name": "Python 3",
   "language": "python",
   "name": "python3"
  },
  "language_info": {
   "codemirror_mode": {
    "name": "ipython",
    "version": 3
   },
   "file_extension": ".py",
   "mimetype": "text/x-python",
   "name": "python",
   "nbconvert_exporter": "python",
   "pygments_lexer": "ipython3",
   "version": "3.6.4"
  },
  "latex_envs": {
   "LaTeX_envs_menu_present": true,
   "autoclose": false,
   "autocomplete": true,
   "bibliofile": "biblio.bib",
   "cite_by": "apalike",
   "current_citInitial": 1,
   "eqLabelWithNumbers": true,
   "eqNumInitial": 1,
   "hotkeys": {
    "equation": "Ctrl-E",
    "itemize": "Ctrl-I"
   },
   "labels_anchors": false,
   "latex_user_defs": false,
   "report_style_numbering": false,
   "user_envs_cfg": false
  },
  "toc": {
   "base_numbering": 1,
   "nav_menu": {},
   "number_sections": true,
   "sideBar": true,
   "skip_h1_title": false,
   "title_cell": "Table of Contents",
   "title_sidebar": "Contents",
   "toc_cell": false,
   "toc_position": {},
   "toc_section_display": true,
   "toc_window_display": false
  }
 },
 "nbformat": 4,
 "nbformat_minor": 2
}
