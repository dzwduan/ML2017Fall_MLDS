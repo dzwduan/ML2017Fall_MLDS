{
 "cells": [
  {
   "cell_type": "code",
   "execution_count": 1,
   "metadata": {
    "ExecuteTime": {
     "end_time": "2018-08-07T07:45:18.683177Z",
     "start_time": "2018-08-07T07:45:16.243657Z"
    }
   },
   "outputs": [],
   "source": [
    "import csv \n",
    "import numpy as np\n",
    "from numpy.linalg import inv #矩阵求逆\n",
    "import random\n",
    "import math\n",
    "import sys\n",
    "import pandas as pd"
   ]
  },
  {
   "cell_type": "raw",
   "metadata": {},
   "source": [
    "读取训练集数据"
   ]
  },
  {
   "cell_type": "code",
   "execution_count": 2,
   "metadata": {
    "ExecuteTime": {
     "end_time": "2018-08-07T07:45:18.801851Z",
     "start_time": "2018-08-07T07:45:18.687133Z"
    }
   },
   "outputs": [],
   "source": [
    "file = open('data/train.csv', 'r',encoding='big5')\n",
    "read_data = csv.reader(file,delimiter=',')\n",
    "\n",
    "data = []\n",
    "for i in range(18):\n",
    "    data.append([])\n",
    "idx = 0\n",
    "for row in read_data:\n",
    "    if idx!=0:\n",
    "        for i in range(3,27):\n",
    "            if row[i]!='NR':\n",
    "                data[(idx-1)%18].append(float(row[i]))\n",
    "            else:\n",
    "                data[(idx-1)%18].append(float(0))\n",
    "    idx+=1\n",
    "file.close()"
   ]
  },
  {
   "cell_type": "raw",
   "metadata": {
    "ExecuteTime": {
     "end_time": "2018-08-06T17:05:04.708856Z",
     "start_time": "2018-08-06T17:05:04.696889Z"
    }
   },
   "source": [
    "读取测试集数据"
   ]
  },
  {
   "cell_type": "code",
   "execution_count": 14,
   "metadata": {
    "ExecuteTime": {
     "end_time": "2018-08-06T17:11:26.838932Z",
     "start_time": "2018-08-06T17:11:26.833947Z"
    }
   },
   "outputs": [
    {
     "data": {
      "text/plain": [
       "<_csv.reader at 0x1f672ab5f50>"
      ]
     },
     "execution_count": 14,
     "metadata": {},
     "output_type": "execute_result"
    }
   ],
   "source": [
    "file = open('data/test.csv', 'r',encoding='big5')\n",
    "read_data = csv.reader(file, delimiter=',')\n",
    "idx = 0\n",
    "test_data = []\n",
    "for row in read_data:\n",
    "    "
   ]
  },
  {
   "cell_type": "raw",
   "metadata": {
    "ExecuteTime": {
     "end_time": "2018-08-06T16:50:23.599484Z",
     "start_time": "2018-08-06T16:50:23.585524Z"
    }
   },
   "source": [
    "处理训练集测试集"
   ]
  },
  {
   "cell_type": "code",
   "execution_count": null,
   "metadata": {},
   "outputs": [],
   "source": []
  }
 ],
 "metadata": {
  "kernelspec": {
   "display_name": "Python 3",
   "language": "python",
   "name": "python3"
  },
  "language_info": {
   "codemirror_mode": {
    "name": "ipython",
    "version": 3
   },
   "file_extension": ".py",
   "mimetype": "text/x-python",
   "name": "python",
   "nbconvert_exporter": "python",
   "pygments_lexer": "ipython3",
   "version": "3.6.4"
  },
  "toc": {
   "base_numbering": 1,
   "nav_menu": {},
   "number_sections": true,
   "sideBar": true,
   "skip_h1_title": false,
   "title_cell": "Table of Contents",
   "title_sidebar": "Contents",
   "toc_cell": false,
   "toc_position": {},
   "toc_section_display": true,
   "toc_window_display": false
  }
 },
 "nbformat": 4,
 "nbformat_minor": 2
}
