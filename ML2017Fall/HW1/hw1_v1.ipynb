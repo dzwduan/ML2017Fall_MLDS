{
 "cells": [
  {
   "cell_type": "code",
   "execution_count": 1,
   "metadata": {
    "ExecuteTime": {
     "end_time": "2018-08-08T05:42:37.189202Z",
     "start_time": "2018-08-08T05:42:35.549551Z"
    }
   },
   "outputs": [],
   "source": [
    "import csv \n",
    "import numpy as np\n",
    "from numpy.linalg import inv #矩阵求逆\n",
    "import random\n",
    "import math\n",
    "import sys\n",
    "import pandas as pd"
   ]
  },
  {
   "cell_type": "raw",
   "metadata": {},
   "source": [
    "读取训练集数据"
   ]
  },
  {
   "cell_type": "code",
   "execution_count": 2,
   "metadata": {
    "ExecuteTime": {
     "end_time": "2018-08-08T05:42:37.294886Z",
     "start_time": "2018-08-08T05:42:37.191160Z"
    }
   },
   "outputs": [],
   "source": [
    "file = open('data/train.csv', 'r',encoding='big5')\n",
    "read_data = csv.reader(file,delimiter=',')\n",
    "\n",
    "data = []\n",
    "for i in range(18):\n",
    "    data.append([])\n",
    "idx = 0\n",
    "for row in read_data:\n",
    "    if idx!=0:\n",
    "        for i in range(3,27):\n",
    "            if row[i]!='NR':\n",
    "                data[(idx-1)%18].append(float(row[i]))\n",
    "            else:\n",
    "                data[(idx-1)%18].append(float(0))\n",
    "    idx+=1\n",
    "file.close()"
   ]
  },
  {
   "cell_type": "code",
   "execution_count": 3,
   "metadata": {
    "ExecuteTime": {
     "end_time": "2018-08-08T05:42:37.743684Z",
     "start_time": "2018-08-08T05:42:37.296887Z"
    }
   },
   "outputs": [],
   "source": [
    "x = []\n",
    "y = []\n",
    "for i in range(12):\n",
    "    for j in range(471):\n",
    "        x.append([])\n",
    "        for t in range(18):\n",
    "            for s in range(9):\n",
    "                x[471*i+j].append(data[t][480*i+j+s])\n",
    "        y.append(data[9][480*i+j+9])\n",
    "\n",
    "x,y = np.array(x), np.array(y)\n",
    "x = np.concatenate((np.ones((x.shape[0],1)),x),axis=1)"
   ]
  },
  {
   "cell_type": "raw",
   "metadata": {
    "ExecuteTime": {
     "end_time": "2018-08-06T17:05:04.708856Z",
     "start_time": "2018-08-06T17:05:04.696889Z"
    }
   },
   "source": [
    "读取测试集数据"
   ]
  },
  {
   "cell_type": "code",
   "execution_count": 4,
   "metadata": {
    "ExecuteTime": {
     "end_time": "2018-08-08T05:42:37.808510Z",
     "start_time": "2018-08-08T05:42:37.744680Z"
    }
   },
   "outputs": [],
   "source": [
    "file = open('data/test.csv', 'r',encoding='big5')\n",
    "read_data = csv.reader(file, delimiter=',')\n",
    "idx = 0\n",
    "test_data = []\n",
    "\n",
    "for row in read_data:\n",
    "    if idx%18==0:\n",
    "        test_data.append([])\n",
    "        for i in range(2,11):\n",
    "            if row[i]!='NR':\n",
    "                test_data[idx//18].append(float(row[i]))\n",
    "            else:\n",
    "                test_data[idx//18].append(float(0))\n",
    "    else:\n",
    "        for i in range(2,11):\n",
    "            if row[i]!='NR':\n",
    "                test_data[idx//18].append(float(row[i]))\n",
    "            else:\n",
    "                test_data[idx//18].append(float(0))\n",
    "    idx+=1\n",
    "test_data=np.array(test_data)\n",
    "\n",
    "test_x = np.concatenate((np.ones((test_data.shape[0],1)),test_data),axis=1)"
   ]
  },
  {
   "cell_type": "code",
   "execution_count": 5,
   "metadata": {
    "ExecuteTime": {
     "end_time": "2018-08-08T05:42:37.819490Z",
     "start_time": "2018-08-08T05:42:37.809509Z"
    }
   },
   "outputs": [
    {
     "data": {
      "text/plain": [
       "((5652, 163), (240, 163), (5652,))"
      ]
     },
     "execution_count": 5,
     "metadata": {},
     "output_type": "execute_result"
    }
   ],
   "source": [
    "x.shape,test_x.shape,y.shape"
   ]
  },
  {
   "cell_type": "raw",
   "metadata": {},
   "source": [
    "进行训练"
   ]
  },
  {
   "cell_type": "code",
   "execution_count": 11,
   "metadata": {
    "ExecuteTime": {
     "end_time": "2018-08-08T05:45:31.456982Z",
     "start_time": "2018-08-08T05:45:31.452986Z"
    }
   },
   "outputs": [],
   "source": [
    "learning_rate = 1\n",
    "epochs = 10000\n",
    "eps = 1e-3\n",
    "seed = 2018\n",
    "cost = []\n",
    "s =  np.zeros((x.shape[1],1))"
   ]
  },
  {
   "cell_type": "raw",
   "metadata": {},
   "source": [
    "http://zh.gluon.ai/chapter_optimization/adagrad.html#Adagrad-%E7%AE%97%E6%B3%95\n",
    "Adagrad 算法\n",
    "Adagrad 的算法会使用一个小批量随机梯度按元素平方的累加变量 s，并将其中每个元素初始化为 0。在每次迭代中，首先计算小批量随机梯度 g，然后将该梯度按元素平方后累加到变量 s：\n",
    "s←s+g⊙g.\n",
    "然后，我们将目标函数自变量中每个元素的学习率通过按元素运算重新调整一下：\n",
    "g′←η/sqrt(s+ϵ)⊙g,\n",
    "其中 η 是初始学习率且 η>0，ϵ 是为了维持数值稳定性而添加的常数，例如 10−7。我们需要注意其中按元素开方、除法和乘法的运算。这些按元素运算使得目标函数自变量中每个元素都分别拥有自己的学习率。\n",
    "最后，自变量的迭代步骤与小批量随机梯度下降类似。只是这里梯度前的学习率已经被调整过了：\n",
    "x←x−g′."
   ]
  },
  {
   "cell_type": "code",
   "execution_count": null,
   "metadata": {
    "ExecuteTime": {
     "end_time": "2018-08-08T05:46:31.079532Z",
     "start_time": "2018-08-08T05:45:32.088286Z"
    }
   },
   "outputs": [],
   "source": [
    "gen = np.random.RandomState(seed)\n",
    "w = gen.normal(loc=0.0, scale=1e-3, size=(x.shape[1],1))\n",
    "\n",
    "for ep in range(epochs):\n",
    "    pred = x@w\n",
    "    loss = pred - y.reshape((-1,1))\n",
    "    cost = np.sum(loss**2)/x.shape[0]\n",
    "    rmse_cost = np.sqrt(cost)\n",
    "    #adagrad\n",
    "    grad = 2*x.T@loss\n",
    "    s += grad**2\n",
    "    g_ = learning_rate/np.sqrt(eps+s) * grad\n",
    "    w = w-g_\n",
    "    print('epoch:{},|rmse:{}'.format(ep,rmse_cost))  #final 5.89"
   ]
  },
  {
   "cell_type": "code",
   "execution_count": 15,
   "metadata": {
    "ExecuteTime": {
     "end_time": "2018-08-08T05:46:52.114281Z",
     "start_time": "2018-08-08T05:46:52.107300Z"
    }
   },
   "outputs": [],
   "source": [
    "np.save('model.npy',w)\n",
    "w = np.load('model.npy')"
   ]
  },
  {
   "cell_type": "raw",
   "metadata": {
    "ExecuteTime": {
     "end_time": "2018-08-08T05:52:11.469287Z",
     "start_time": "2018-08-08T05:52:11.457297Z"
    }
   },
   "source": [
    "根据给出的正确答案打印出acc"
   ]
  },
  {
   "cell_type": "code",
   "execution_count": 25,
   "metadata": {
    "ExecuteTime": {
     "end_time": "2018-08-08T06:03:03.290176Z",
     "start_time": "2018-08-08T06:03:03.284196Z"
    }
   },
   "outputs": [],
   "source": [
    "def get_err(file1, file2):\n",
    "    y1 = pd.read_csv(file1).value.values\n",
    "    y2 = pd.read_csv(file2).value.values\n",
    "    y1,y2 = np.array(y1), np.array(y2)\n",
    "    errors = np.sqrt(np.sum((y1-y2)**2)/len(y1))\n",
    "    print(errors)"
   ]
  },
  {
   "cell_type": "raw",
   "metadata": {},
   "source": [
    "保存为csv文件"
   ]
  },
  {
   "cell_type": "code",
   "execution_count": 78,
   "metadata": {
    "ExecuteTime": {
     "end_time": "2018-08-08T06:29:26.080950Z",
     "start_time": "2018-08-08T06:29:26.073985Z"
    }
   },
   "outputs": [],
   "source": [
    "ans = []\n",
    "w = np.array(w).squeeze()   #专程163个数字，否则保存的是【】\n",
    "for i in range(len(test_x)):\n",
    "    ans.append([\"id_\"+str(i)])\n",
    "    a = test_x[i]@w\n",
    "    ans[i].append(a)"
   ]
  },
  {
   "cell_type": "code",
   "execution_count": 79,
   "metadata": {
    "ExecuteTime": {
     "end_time": "2018-08-08T06:29:27.093245Z",
     "start_time": "2018-08-08T06:29:27.078284Z"
    }
   },
   "outputs": [],
   "source": [
    "text = open('to_submission.csv','w+')\n",
    "s = csv.writer(text,delimiter=',',lineterminator='\\n')\n",
    "s.writerow([\"id\",\"value\"])\n",
    "for i in range(len(ans)):\n",
    "    s.writerow(ans[i]) \n",
    "text.close()"
   ]
  },
  {
   "cell_type": "code",
   "execution_count": 80,
   "metadata": {
    "ExecuteTime": {
     "end_time": "2018-08-08T06:29:27.854213Z",
     "start_time": "2018-08-08T06:29:27.845232Z"
    }
   },
   "outputs": [
    {
     "name": "stdout",
     "output_type": "stream",
     "text": [
      "6.767832088956983\n"
     ]
    }
   ],
   "source": [
    "get_err('to_submission.csv','ans.csv')"
   ]
  }
 ],
 "metadata": {
  "kernelspec": {
   "display_name": "Python 3",
   "language": "python",
   "name": "python3"
  },
  "language_info": {
   "codemirror_mode": {
    "name": "ipython",
    "version": 3
   },
   "file_extension": ".py",
   "mimetype": "text/x-python",
   "name": "python",
   "nbconvert_exporter": "python",
   "pygments_lexer": "ipython3",
   "version": "3.6.4"
  },
  "toc": {
   "base_numbering": 1,
   "nav_menu": {},
   "number_sections": true,
   "sideBar": true,
   "skip_h1_title": false,
   "title_cell": "Table of Contents",
   "title_sidebar": "Contents",
   "toc_cell": false,
   "toc_position": {},
   "toc_section_display": true,
   "toc_window_display": false
  }
 },
 "nbformat": 4,
 "nbformat_minor": 2
}
