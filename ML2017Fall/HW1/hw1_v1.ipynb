{
 "cells": [
  {
   "cell_type": "code",
   "execution_count": null,
   "metadata": {
    "ExecuteTime": {
     "end_time": "2018-08-06T16:23:08.662015Z",
     "start_time": "2018-08-06T16:23:08.259092Z"
    }
   },
   "outputs": [],
   "source": [
    "import csv \n",
    "import numpy as np\n",
    "from numpy.linalg import inv #矩阵求逆\n",
    "import random\n",
    "import math\n",
    "import sys\n",
    "import pandas as pd"
   ]
  },
  {
   "cell_type": "raw",
   "metadata": {},
   "source": [
    "读取训练集数据"
   ]
  },
  {
   "cell_type": "code",
   "execution_count": 9,
   "metadata": {
    "ExecuteTime": {
     "end_time": "2018-08-06T16:50:10.964776Z",
     "start_time": "2018-08-06T16:50:10.888979Z"
    }
   },
   "outputs": [],
   "source": [
    "file = open('data/train.csv', 'r',encoding='big5')\n",
    "read_data = csv.reader(file,delimiter=',')\n",
    "\n",
    "data = []\n",
    "for i in range(18):\n",
    "    data.append([])\n",
    "idx = 0\n",
    "for row in read_data:\n",
    "    if idx!=0:\n",
    "        for i in range(3,27):\n",
    "            if row[i]!='NR':\n",
    "                data[(idx-1)%18].append(float(row[i]))\n",
    "            else:\n",
    "                data[(idx-1)%18].append(float(0))\n",
    "    idx+=1\n",
    "file.close()"
   ]
  },
  {
   "cell_type": "code",
   "execution_count": null,
   "metadata": {},
   "outputs": [],
   "source": []
  },
  {
   "cell_type": "raw",
   "metadata": {
    "ExecuteTime": {
     "end_time": "2018-08-06T17:05:04.708856Z",
     "start_time": "2018-08-06T17:05:04.696889Z"
    }
   },
   "source": [
    "读取测试集数据"
   ]
  },
  {
   "cell_type": "code",
   "execution_count": 25,
   "metadata": {
    "ExecuteTime": {
     "end_time": "2018-08-07T15:46:12.993449Z",
     "start_time": "2018-08-07T15:46:12.947545Z"
    }
   },
   "outputs": [],
   "source": [
    "file = open('data/test.csv', 'r',encoding='big5')\n",
    "read_data = csv.reader(file, delimiter=',')\n",
    "idx = 0\n",
    "test_x = []\n",
    "for row in read_data:\n",
    "    if idx%18==0:\n",
    "        test_x.append([])\n",
    "        for i in range(2,11):\n",
    "            if row[i]!='NR':\n",
    "                test_x[idx//18].append(float(row[i]))\n",
    "            else:\n",
    "                test_x[idx//18].append(float(0))\n",
    "    else:\n",
    "        for i in range(2,11):\n",
    "            if row[i]!='NR':\n",
    "                test_x[idx//18].append(float(row[i]))\n",
    "            else:\n",
    "                test_x[idx//18].append(float(0))\n",
    "    idx+=1  \n",
    "file.close()\n",
    "test_x = np.array(test_x)\n",
    "\n",
    "test_x = np.concatenate((np.ones((test_x.shape[0],1)),test_x),axis=1)"
   ]
  },
  {
   "cell_type": "raw",
   "metadata": {
    "ExecuteTime": {
     "end_time": "2018-08-06T16:50:23.599484Z",
     "start_time": "2018-08-06T16:50:23.585524Z"
    }
   },
   "source": [
    "处理训练集测试集"
   ]
  },
  {
   "cell_type": "code",
   "execution_count": 18,
   "metadata": {
    "ExecuteTime": {
     "end_time": "2018-08-07T15:43:21.641857Z",
     "start_time": "2018-08-07T15:43:21.636894Z"
    }
   },
   "outputs": [
    {
     "data": {
      "text/plain": [
       "(0, 1)"
      ]
     },
     "execution_count": 18,
     "metadata": {},
     "output_type": "execute_result"
    }
   ],
   "source": [
    "1//2,1%2"
   ]
  },
  {
   "cell_type": "code",
   "execution_count": null,
   "metadata": {},
   "outputs": [],
   "source": []
  }
 ],
 "metadata": {
  "kernelspec": {
   "display_name": "Python 3",
   "language": "python",
   "name": "python3"
  },
  "language_info": {
   "codemirror_mode": {
    "name": "ipython",
    "version": 3
   },
   "file_extension": ".py",
   "mimetype": "text/x-python",
   "name": "python",
   "nbconvert_exporter": "python",
   "pygments_lexer": "ipython3",
   "version": "3.6.5"
  }
 },
 "nbformat": 4,
 "nbformat_minor": 2
}
