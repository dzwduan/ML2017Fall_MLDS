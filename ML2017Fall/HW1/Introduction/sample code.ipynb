{
 "cells": [
  {
   "cell_type": "code",
   "execution_count": 1,
   "metadata": {
    "ExecuteTime": {
     "end_time": "2018-08-04T16:45:36.063226Z",
     "start_time": "2018-08-04T16:45:35.756006Z"
    }
   },
   "outputs": [],
   "source": [
    "import csv \n",
    "import numpy as np\n",
    "from numpy.linalg import inv\n",
    "import random\n",
    "import math\n",
    "import sys\n",
    "import pandas as pd"
   ]
  },
  {
   "cell_type": "code",
   "execution_count": 3,
   "metadata": {
    "ExecuteTime": {
     "end_time": "2018-08-04T16:45:47.547512Z",
     "start_time": "2018-08-04T16:45:47.444768Z"
    }
   },
   "outputs": [],
   "source": [
    "data = []\n",
    "# 每一個維度儲存一種污染物的資訊\n",
    "for i in range(18):\n",
    "\tdata.append([])\n",
    "\n",
    "n_row = 0\n",
    "text = open('../data/train.csv', 'r', encoding='big5') \n",
    "row = csv.reader(text , delimiter=\",\")\n",
    "for r in row:\n",
    "    # 第0列沒有資訊\n",
    "    if n_row != 0:\n",
    "        # 每一列只有第3-27格有值(1天內24小時的數值)\n",
    "        for i in range(3,27):\n",
    "            if r[i] != \"NR\":\n",
    "                data[(n_row-1)%18].append(float(r[i]))\n",
    "            else:\n",
    "                data[(n_row-1)%18].append(float(0))\t\n",
    "    n_row = n_row+1\n",
    "text.close()"
   ]
  },
  {
   "cell_type": "code",
   "execution_count": 4,
   "metadata": {
    "ExecuteTime": {
     "end_time": "2018-08-04T16:45:48.148865Z",
     "start_time": "2018-08-04T16:45:48.141883Z"
    }
   },
   "outputs": [],
   "source": [
    "da = np.array(data)"
   ]
  },
  {
   "cell_type": "code",
   "execution_count": 6,
   "metadata": {
    "ExecuteTime": {
     "end_time": "2018-08-04T16:45:55.149145Z",
     "start_time": "2018-08-04T16:45:55.109252Z"
    }
   },
   "outputs": [
    {
     "data": {
      "text/plain": [
       "(4320, 27)"
      ]
     },
     "execution_count": 6,
     "metadata": {},
     "output_type": "execute_result"
    }
   ],
   "source": [
    "train_data = pd.read_csv('../data/train.csv',encoding = 'big5')\n",
    "train_data = train_data.values\n",
    "train_data.shape"
   ]
  },
  {
   "cell_type": "code",
   "execution_count": 10,
   "metadata": {
    "ExecuteTime": {
     "end_time": "2018-08-04T16:46:24.966306Z",
     "start_time": "2018-08-04T16:46:24.529474Z"
    }
   },
   "outputs": [
    {
     "name": "stdout",
     "output_type": "stream",
     "text": [
      "(5652, 162)\n",
      "(5652,)\n"
     ]
    }
   ],
   "source": [
    "x = []\n",
    "y = []\n",
    "# 每 12 個月\n",
    "for i in range(12):\n",
    "    # 一個月取連續10小時的data可以有471筆\n",
    "    for j in range(471):\n",
    "        x.append([])\n",
    "        # 18種污染物\n",
    "        for t in range(18):\n",
    "            # 連續9小時\n",
    "            for s in range(9):\n",
    "                x[471*i+j].append(data[t][480*i+j+s] )\n",
    "        y.append(data[9][480*i+j+9])\n",
    "x = np.array(x)\n",
    "y = np.array(y)\n",
    "print(x.shape)\n",
    "print(y.shape)\n",
    "# add square term\n",
    "# x = np.concatenate((x,x**2), axis=1)\n",
    "\n",
    "# add bias\n",
    "x = np.concatenate((np.ones((x.shape[0],1)),x), axis=1)"
   ]
  },
  {
   "cell_type": "code",
   "execution_count": 14,
   "metadata": {
    "ExecuteTime": {
     "end_time": "2018-08-04T18:19:55.167884Z",
     "start_time": "2018-08-04T18:19:55.146938Z"
    }
   },
   "outputs": [
    {
     "data": {
      "text/plain": [
       "array([[ 1. , 14. , 14. , ...,  2. ,  2. ,  0.5],\n",
       "       [ 1. , 14. , 14. , ...,  2. ,  0.5,  0.3],\n",
       "       [ 1. , 14. , 13. , ...,  0.5,  0.3,  0.8],\n",
       "       ...,\n",
       "       [ 1. , 17. , 18. , ...,  1.1,  1.4,  1.3],\n",
       "       [ 1. , 18. , 19. , ...,  1.4,  1.3,  1.6],\n",
       "       [ 1. , 19. , 18. , ...,  1.3,  1.6,  1.8]])"
      ]
     },
     "execution_count": 14,
     "metadata": {},
     "output_type": "execute_result"
    }
   ],
   "source": [
    "x"
   ]
  },
  {
   "cell_type": "code",
   "execution_count": 8,
   "metadata": {
    "ExecuteTime": {
     "end_time": "2018-08-04T16:45:56.250201Z",
     "start_time": "2018-08-04T16:45:56.245213Z"
    }
   },
   "outputs": [
    {
     "data": {
      "text/plain": [
       "(5652, 163)"
      ]
     },
     "execution_count": 8,
     "metadata": {},
     "output_type": "execute_result"
    }
   ],
   "source": [
    "x.shape"
   ]
  },
  {
   "cell_type": "code",
   "execution_count": 9,
   "metadata": {
    "ExecuteTime": {
     "end_time": "2018-08-04T16:45:56.796740Z",
     "start_time": "2018-08-04T16:45:56.791766Z"
    }
   },
   "outputs": [],
   "source": [
    "w = np.zeros(len(x[0]))\n",
    "l_rate = 10\n",
    "repeat = 100000"
   ]
  },
  {
   "cell_type": "code",
   "execution_count": null,
   "metadata": {},
   "outputs": [],
   "source": [
    "x_t = x.transpose()\n",
    "s_gra = np.zeros(len(x[0]))\n",
    "\n",
    "for i in range(repeat):\n",
    "    hypo = np.dot(x,w)\n",
    "    loss = hypo - y\n",
    "    cost = np.sum(loss**2) / len(x)\n",
    "    cost_a  = math.sqrt(cost)\n",
    "    gra = np.dot(x_t,loss)\n",
    "    s_gra += gra**2\n",
    "    ada = np.sqrt(s_gra)\n",
    "    w = w - l_rate * gra/ada\n",
    "    print ('iteration: %d | Cost: %f  ' % ( i,cost_a))"
   ]
  },
  {
   "cell_type": "code",
   "execution_count": 32,
   "metadata": {},
   "outputs": [],
   "source": [
    "# save model\n",
    "np.save('model.npy',w)\n",
    "# read model\n",
    "w = np.load('model.npy')"
   ]
  },
  {
   "cell_type": "code",
   "execution_count": 33,
   "metadata": {},
   "outputs": [],
   "source": [
    "test_x = []\n",
    "n_row = 0\n",
    "text = open('data/test.csv' ,\"r\")\n",
    "row = csv.reader(text , delimiter= \",\")"
   ]
  },
  {
   "cell_type": "code",
   "execution_count": 34,
   "metadata": {},
   "outputs": [],
   "source": [
    "for r in row:\n",
    "    if n_row %18 == 0:\n",
    "        test_x.append([])\n",
    "        for i in range(2,11):\n",
    "            test_x[n_row//18].append(float(r[i]) )\n",
    "    else :\n",
    "        for i in range(2,11):\n",
    "            if r[i] !=\"NR\":\n",
    "                test_x[n_row//18].append(float(r[i]))\n",
    "            else:\n",
    "                test_x[n_row//18].append(0)\n",
    "    n_row = n_row+1\n",
    "text.close()\n",
    "test_x = np.array(test_x)\n",
    "\n",
    "# add square term\n",
    "# test_x = np.concatenate((test_x,test_x**2), axis=1)\n",
    "\n",
    "# add bias\n",
    "test_x = np.concatenate((np.ones((test_x.shape[0],1)),test_x), axis=1)"
   ]
  },
  {
   "cell_type": "code",
   "execution_count": 37,
   "metadata": {},
   "outputs": [],
   "source": [
    "ans = []\n",
    "for i in range(len(test_x)):\n",
    "    ans.append([\"id_\"+str(i)])\n",
    "    a = np.dot(w,test_x[i])\n",
    "    ans[i].append(a)\n",
    "\n",
    "filename = \"predict.csv\"\n",
    "text = open(filename, \"w+\")\n",
    "s = csv.writer(text,delimiter=',',lineterminator='\\n')\n",
    "s.writerow([\"id\",\"value\"])\n",
    "for i in range(len(ans)):\n",
    "    s.writerow(ans[i]) \n",
    "text.close()"
   ]
  },
  {
   "cell_type": "code",
   "execution_count": 53,
   "metadata": {},
   "outputs": [],
   "source": [
    "def get_err(file1, file2):\n",
    "    y1 = pd.read_csv(file1).value.values\n",
    "    y2 = pd.read_csv(file2).value.values\n",
    "    y1,y2 = np.array(y1), np.array(y2)\n",
    "    errors = np.sum(((y1 - y2)**2)/len(y1))**0.5  \n",
    "    print(errors)"
   ]
  },
  {
   "cell_type": "code",
   "execution_count": 54,
   "metadata": {},
   "outputs": [
    {
     "name": "stdout",
     "output_type": "stream",
     "text": [
      "6.769924445192698\n"
     ]
    }
   ],
   "source": [
    "get_err('predict.csv','ans.csv')"
   ]
  }
 ],
 "metadata": {
  "kernelspec": {
   "display_name": "Python 3",
   "language": "python",
   "name": "python3"
  },
  "language_info": {
   "codemirror_mode": {
    "name": "ipython",
    "version": 3
   },
   "file_extension": ".py",
   "mimetype": "text/x-python",
   "name": "python",
   "nbconvert_exporter": "python",
   "pygments_lexer": "ipython3",
   "version": "3.6.4"
  },
  "toc": {
   "base_numbering": 1,
   "nav_menu": {},
   "number_sections": true,
   "sideBar": true,
   "skip_h1_title": false,
   "title_cell": "Table of Contents",
   "title_sidebar": "Contents",
   "toc_cell": false,
   "toc_position": {},
   "toc_section_display": true,
   "toc_window_display": false
  }
 },
 "nbformat": 4,
 "nbformat_minor": 2
}
